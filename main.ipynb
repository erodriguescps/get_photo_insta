{
 "cells": [
  {
   "cell_type": "markdown",
   "id": "2575bd44",
   "metadata": {},
   "source": [
    "# Importa as bibliotecas"
   ]
  },
  {
   "cell_type": "code",
   "execution_count": 5,
   "id": "a158890a",
   "metadata": {},
   "outputs": [],
   "source": [
    "from selenium.webdriver.common.by import By\n",
    "from selenium import webdriver\n",
    "from time import sleep\n",
    "import urllib.request\n",
    "import os\n",
    "\n",
    "#Link do Instagram aqui\n",
    "linkInstagram = 'https://www.instagram.com/bolsonarosp/'\n",
    "dir_driver = r\"\"  #Colocar entre as aspas o diretório onde está o ChromeDriver"
   ]
  },
  {
   "cell_type": "markdown",
   "id": "f3f14d43",
   "metadata": {},
   "source": [
    "# Cria a Pasta para baixar as fotos"
   ]
  },
  {
   "cell_type": "code",
   "execution_count": 3,
   "id": "3c9bf2d1",
   "metadata": {},
   "outputs": [
    {
     "name": "stdout",
     "output_type": "stream",
     "text": [
      "Pasta \"GetInstagramPhotos\" criada\n",
      "\n"
     ]
    }
   ],
   "source": [
    "try:\n",
    "    os.makedirs('GetInstagramPhotos')\n",
    "    print(f'Pasta \"GetInstagramPhotos\" criada\\n')\n",
    "except:\n",
    "    print(f'A pasta \"GetInstagramPhotos\" Ja existe\\n')"
   ]
  },
  {
   "cell_type": "markdown",
   "id": "e237a10e",
   "metadata": {},
   "source": [
    "# Execução"
   ]
  },
  {
   "cell_type": "code",
   "execution_count": 6,
   "id": "f82ae4c7",
   "metadata": {},
   "outputs": [
    {
     "name": "stderr",
     "output_type": "stream",
     "text": [
      "C:\\Users\\e\\AppData\\Local\\Temp\\ipykernel_2468\\1235806177.py:1: DeprecationWarning: executable_path has been deprecated, please pass in a Service object\n",
      "  driver = webdriver.Chrome(dir_driver) #Abre uma nova guia\n"
     ]
    }
   ],
   "source": [
    "\n",
    "driver = webdriver.Chrome(dir_driver) #Abre uma nova guia\n",
    "driver.get(linkInstagram) #Acessa o perfil do instragram\n",
    "sleep(5) #Aguarda 5 segundos carregar a página inteira\n",
    "\n",
    "imagens = driver.find_elements(By.TAG_NAME, 'img') #Coloca em uma lista todas as imagens da página\n",
    "\n",
    "for i in imagens:\n",
    "    numero = str(imagens.index(i)).zfill(3) #cria um sufixo de acordo com o index\n",
    "    img = i.get_attribute('src')\n",
    "    urllib.request.urlretrieve(img, fr'GetInstagramPhotos\\foto_{numero}.jpeg')  #Salva a foto com o nome randomico na pasta\n",
    "driver.close()\n",
    "print('Download finalizado')"
   ]
  },
  {
   "cell_type": "code",
   "execution_count": null,
   "id": "42bea536",
   "metadata": {},
   "outputs": [],
   "source": []
  }
 ],
 "metadata": {
  "kernelspec": {
   "display_name": "Python 3 (ipykernel)",
   "language": "python",
   "name": "python3"
  },
  "language_info": {
   "codemirror_mode": {
    "name": "ipython",
    "version": 3
   },
   "file_extension": ".py",
   "mimetype": "text/x-python",
   "name": "python",
   "nbconvert_exporter": "python",
   "pygments_lexer": "ipython3",
   "version": "3.9.12"
  }
 },
 "nbformat": 4,
 "nbformat_minor": 5
}
